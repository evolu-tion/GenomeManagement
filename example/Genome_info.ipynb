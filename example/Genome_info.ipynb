{
  "nbformat": 4,
  "nbformat_minor": 0,
  "metadata": {
    "kernelspec": {
      "display_name": "Python 3",
      "language": "python",
      "name": "python3"
    },
    "language_info": {
      "codemirror_mode": {
        "name": "ipython",
        "version": 3
      },
      "file_extension": ".py",
      "mimetype": "text/x-python",
      "name": "python",
      "nbconvert_exporter": "python",
      "pygments_lexer": "ipython3",
      "version": "3.7.6"
    },
    "colab": {
      "name": "Genome_info.ipynb",
      "provenance": [],
      "collapsed_sections": [],
      "toc_visible": true,
      "include_colab_link": true
    }
  },
  "cells": [
    {
      "cell_type": "markdown",
      "metadata": {
        "id": "view-in-github",
        "colab_type": "text"
      },
      "source": [
        "<a href=\"https://colab.research.google.com/github/evolu-tion/GenomeManagement/blob/master/example/Genome_info.ipynb\" target=\"_parent\"><img src=\"https://colab.research.google.com/assets/colab-badge.svg\" alt=\"Open In Colab\"/></a>"
      ]
    },
    {
      "cell_type": "markdown",
      "metadata": {
        "id": "xctKz6A5xu0v"
      },
      "source": [
        "# Bitter gourd project\n",
        "\n",
        "## Bitter gourd (M. charantia) have 4 assembed genome references.\n",
        "| Genome version | Assembed genome ID | Citation | Genome Size  | Number of scaffold |Completeness | N50 | GC content (%) | N-Gap content (%) |\n",
        "|----------------|--------------------|----------|--------------|--------------------|-------------|-----|------------|---------------|\n",
        "|OHB3-1 v1     |[GCA_001995035.1](https://www.ncbi.nlm.nih.gov/assembly/GCA_001995035.1)|Urasaki et al., 2017| 285.6 Mbp | 1,052 |Scaffold | 1,100,631 bp | 35.77 | 7.71 |\n",
        "|OHB3-1 v2     |[GCA_013281855.1](https://www.ncbi.nlm.nih.gov/assembly/GCA_013281855.1)|Matsumura et al., 2020|  |  |  |  |  |  |\n",
        "|Dali-11       |[CNA0000004](http://ftp.cngb.org/pub/CNSA/data1/CNP0000016/CNS0000443/CNA0000004/)|Cui et al., 2020| 294.0 Mbp | 6,764 |Scaffold | 21,142,588 bp | 35.74 | 2.36 |\n",
        "|TR(S108)      |[GCA_900491585.1](https://www.ncbi.nlm.nih.gov/assembly/GCA_900491585.1), [CNA0000005](http://ftp.cngb.org/pub/CNSA/data1/CNP0000016/CNS0000444/CNA0000005/)|Cui et al., 2020|  |  |  |  |  |  |"
      ]
    },
    {
      "cell_type": "markdown",
      "metadata": {
        "id": "12BRN3fkyAb0"
      },
      "source": [
        "## Get GenomeManagement package"
      ]
    },
    {
      "cell_type": "code",
      "metadata": {
        "colab": {
          "base_uri": "https://localhost:8080/"
        },
        "id": "SC75GpT5yKQi",
        "outputId": "68348537-efb5-4a89-eccd-7f1cbb634756"
      },
      "source": [
        "!git clone https://github.com/evolu-tion/GenomeManagement.git"
      ],
      "execution_count": 1,
      "outputs": [
        {
          "output_type": "stream",
          "text": [
            "Cloning into 'GenomeManagement'...\n",
            "remote: Enumerating objects: 12, done.\u001b[K\n",
            "remote: Counting objects: 100% (12/12), done.\u001b[K\n",
            "remote: Compressing objects: 100% (12/12), done.\u001b[K\n",
            "remote: Total 232 (delta 6), reused 0 (delta 0), pack-reused 220\u001b[K\n",
            "Receiving objects: 100% (232/232), 17.55 MiB | 12.12 MiB/s, done.\n",
            "Resolving deltas: 100% (123/123), done.\n"
          ],
          "name": "stdout"
        }
      ]
    },
    {
      "cell_type": "markdown",
      "metadata": {
        "id": "Szk-zsKjxu09"
      },
      "source": [
        "# Assessment assembled genome quality\n",
        "1. Download assembled genomes from NCBI and/or CNGB\n",
        "2. Assessment genome qualtiy using [GenomeManangement](https://github.com/evolu-tion/GenomeManagement)"
      ]
    },
    {
      "cell_type": "code",
      "metadata": {
        "colab": {
          "base_uri": "https://localhost:8080/"
        },
        "id": "AHQtkV0Txu0-",
        "outputId": "b6b4d7d8-a83e-45cf-b06b-cdd62f01f879"
      },
      "source": [
        "# Retrieve M. charantia OHB3-1 genome information from RefSeq (https://www.ncbi.nlm.nih.gov/genome/12860?genome_assembly_id=306190)\n",
        "!mkdir -p genome\n",
        "!wget https://ftp.ncbi.nlm.nih.gov/genomes/refseq/plant/Momordica_charantia/latest_assembly_versions/GCF_001995035.1_ASM199503v1/GCF_001995035.1_ASM199503v1_genomic.fna.gz -q -O genome/GCF_001995035.1_ASM199503v1_genomic.fna.gz\n",
        "\n",
        "# Show some sequence of FASTA genome files\n",
        "!zcat genome/GCF_001995035.1_ASM199503v1_genomic.fna.gz | head\n",
        "\n",
        "# Get statistic of genome information using GenomeManagement\n",
        "!python GenomeManagement/get_genome_statistic.py -g genome/GCF_001995035.1_ASM199503v1_genomic.fna.gz"
      ],
      "execution_count": 2,
      "outputs": [
        {
          "output_type": "stream",
          "text": [
            ">NW_019104488.1 Momordica charantia strain OHB3-1 unplaced genomic scaffold, ASM199503v1 scaffold_0, whole genome shotgun sequence\n",
            "cttgcataaacaaatatCTTGAGGTTTGCAATGATTACTTGGTATATCCACCATAGAACCATTAACTAAAACTGTCAGTT\n",
            "CCGCATATTATTGTTGCttctattttgttgattttccaACATTTATGAATATTTCTTAAACTAACCTAACTATTAATCTC\n",
            "TCTCACATTGACATGTTTTTTCTAATCTCATTAGTAAAAGTCTGTCTCATTTCAACTTATtttcagaaattttttttttt\n",
            "ttttactcagtTTTGCATTTGTAGCAAATTGAGAGGTAGATAGTCTTCTTAACAAGTGGGATTGTATAATACTAATTTCG\n",
            "AACTTAGCTTTGTAGAATGTGGTTTTTGCGAGTTCAAGCCAACTTTGGTGGcaaataaagaaatcaaaattatattttgg\n",
            "aataTAATTTCTAGTAAATAGTGAAATGTTTTCATGACTCAATCAGCTTAGTAtctctttgtaattttgttcTATTGGTT\n",
            "GAttgattatttcaaattatggaTTTTAATAAGTACTTTCCTATTTATAAGTATCCAAGGTCCTGTAGCTCAGTTGGTTA\n",
            "GAGCGTTGGTCTTATGAGCCGAAGGTCGCGGGTTCGAGCCCCGCCGGGACCAAATAAGCAGCAATGCATCCAGTTATTGT\n",
            "TTAACACATTACTGAATCTAAGTTCTAATCCTGTTTGTGTAACACTGCCTTTAGAATCATTGTCAAAGTTTTTCTTTCCA\n",
            "Total sequence length: 285,613,949\n",
            "Total ungapped length: 263,590,461\n",
            "Total spanned gaps: 22,023,488\n",
            "Number of chromosomes/scaffolds/contigs:  1,052\n",
            "GC content (%): 35.77\n",
            "N content (%): 7.71\n",
            "N50: 1,100,631\n",
            "L50: 67\n"
          ],
          "name": "stdout"
        }
      ]
    },
    {
      "cell_type": "code",
      "metadata": {
        "colab": {
          "base_uri": "https://localhost:8080/"
        },
        "id": "2cC7cCjlxu1A",
        "outputId": "2516a2d9-4f7d-4cb8-8dcd-2f1521b4aea4"
      },
      "source": [
        "# Retrieve M. charantia Dali-11 genome information from CNGB Nucleotide Sequence Archive (CNSA) with CNP0000016 assession\n",
        "!wget ftp://ftp.cngb.org/pub/CNSA/data1/CNP0000016/CNS0000443/CNA0000004/Dali-11_chr.fasta.gz -q -O genome/Dali-11_chr.fasta.gz\n",
        "\n",
        "# Show some sequence of FASTA genome files\n",
        "!zcat genome/Dali-11_chr.fasta.gz | head\n",
        "\n",
        "# Get statistic of genome information using GenomeManagement\n",
        "!python GenomeManagement/get_genome_statistic.py -g genome/Dali-11_chr.fasta.gz"
      ],
      "execution_count": 3,
      "outputs": [
        {
          "output_type": "stream",
          "text": [
            ">MC01\n",
            "NNNNNNNNNNNNNNNNNNNNNNNNNNNNNNNNNNNNNNNNNNNNNNNNNNNNNNNNNNNNNNNNNNNNNNNNNNNNNNNNNNNNNNNNNNNNNNNNNNNN\n",
            "NNNNNNNNNNNNNNNNNNNNNNNNNNNNNNNNNNNNNNNNNNNNNNNNNNNNNNNNNNNNNNNNNNNNNNNNNNNNNNNNNNNNNNNNNNNNNNNNNNNN\n",
            "NNNNNNNNNNNNNNNNNNNNNNNNNNNNNNNNNNNNNNNNNNNNNNNNNNNNNNNNNNNNNNNNNNNNNNNNNNNNNNNNNNNNNNNNNNNNNNNNNNNN\n",
            "NNNNNNNNNNNNNNNNNNNNNNNNNNNNNNNNNNNNNNNNNNNNNNNNNNNNNNNNNNNNNNNNNNNNNNNNNNNNNNNNNNNNNNNNNNNNNNNNNNNN\n",
            "NNNNNNNNNNNNNNNNNNNNNNNNNNNNNNNNNNNNNNNNNNNNNNNNNNNNNNNNNNNNNNNNNNNNNNNNNNNNNNNNNNNNNNNNNNNNNNNNNNNN\n",
            "TCGAACCCTTTTAGAGTTAATTTCGAAGGATAAATAGCATACGTAACGTGCTGTATTTTCTGTTTTGGTGTGCCTAGGGTGAGGTCGACGCAAAACTTAA\n",
            "GGGCACGGTTGTGGGTAAGTAGACAAAGGGCGGGTGCGTGTGTTAATGTATGCTCGATGGTCTCTAACATGCTGATTTTGTAGTATTTAATGTTAATTTT\n",
            "GTGACGTTGTTGTGCTAAATAATTTTTATGGTGTTAGTCGATATACTTGGAATGGTGTTGGATATTTGTCGATGAAAAATGGTGAGTTTTCTGCTTTGCT\n",
            "AAACTGTGAGTATTGCTGTGGTAATGTTTGTTGCCTGGATATGCATGTTTTGTTCGGCGTGTTTAGTGAGCTATTATCCTTGGTAATACTTGTTAAATAA\n",
            "Total sequence length: 294,014,906\n",
            "Total ungapped length: 287,064,444\n",
            "Total spanned gaps: 6,950,462\n",
            "Number of chromosomes/scaffolds/contigs:  6,764\n",
            "GC content (%): 35.74\n",
            "N content (%): 2.36\n",
            "N50: 21,142,588\n",
            "L50: 6\n"
          ],
          "name": "stdout"
        }
      ]
    }
  ]
}