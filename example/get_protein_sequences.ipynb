{
  "nbformat": 4,
  "nbformat_minor": 0,
  "metadata": {
    "colab": {
      "name": "Get protein sequences.ipynb",
      "provenance": [],
      "collapsed_sections": [],
      "authorship_tag": "ABX9TyOaDax+eTT9ZWYfrNKhYUI9",
      "include_colab_link": true
    },
    "kernelspec": {
      "name": "python3",
      "display_name": "Python 3"
    }
  },
  "cells": [
    {
      "cell_type": "markdown",
      "metadata": {
        "id": "view-in-github",
        "colab_type": "text"
      },
      "source": [
        "<a href=\"https://colab.research.google.com/github/evolu-tion/GenomeManagement/blob/master/example/get_protein_sequences.ipynb\" target=\"_parent\"><img src=\"https://colab.research.google.com/assets/colab-badge.svg\" alt=\"Open In Colab\"/></a>"
      ]
    },
    {
      "cell_type": "markdown",
      "metadata": {
        "id": "QxNDKjKtT2LR"
      },
      "source": [
        "# How to get protein sequence from whole protein sequence"
      ]
    },
    {
      "cell_type": "markdown",
      "metadata": {
        "id": "naAAmO8GUQXJ"
      },
      "source": [
        "## 1. Clone GenomeManagement package into your environment"
      ]
    },
    {
      "cell_type": "code",
      "metadata": {
        "colab": {
          "base_uri": "https://localhost:8080/"
        },
        "id": "R6bc3Vi-wCGA",
        "outputId": "08335620-5e0b-4a2e-8442-68aa2ff74304"
      },
      "source": [
        "!git clone https://github.com/evolu-tion/GenomeManagement.git"
      ],
      "execution_count": 5,
      "outputs": [
        {
          "output_type": "stream",
          "text": [
            "Cloning into 'GenomeManagement'...\n",
            "remote: Enumerating objects: 20, done.\u001b[K\n",
            "remote: Counting objects:   5% (1/20)\u001b[K\rremote: Counting objects:  10% (2/20)\u001b[K\rremote: Counting objects:  15% (3/20)\u001b[K\rremote: Counting objects:  20% (4/20)\u001b[K\rremote: Counting objects:  25% (5/20)\u001b[K\rremote: Counting objects:  30% (6/20)\u001b[K\rremote: Counting objects:  35% (7/20)\u001b[K\rremote: Counting objects:  40% (8/20)\u001b[K\rremote: Counting objects:  45% (9/20)\u001b[K\rremote: Counting objects:  50% (10/20)\u001b[K\rremote: Counting objects:  55% (11/20)\u001b[K\rremote: Counting objects:  60% (12/20)\u001b[K\rremote: Counting objects:  65% (13/20)\u001b[K\rremote: Counting objects:  70% (14/20)\u001b[K\rremote: Counting objects:  75% (15/20)\u001b[K\rremote: Counting objects:  80% (16/20)\u001b[K\rremote: Counting objects:  85% (17/20)\u001b[K\rremote: Counting objects:  90% (18/20)\u001b[K\rremote: Counting objects:  95% (19/20)\u001b[K\rremote: Counting objects: 100% (20/20)\u001b[K\rremote: Counting objects: 100% (20/20), done.\u001b[K\n",
            "remote: Compressing objects: 100% (18/18), done.\u001b[K\n",
            "remote: Total 240 (delta 9), reused 0 (delta 0), pack-reused 220\u001b[K\n",
            "Receiving objects: 100% (240/240), 17.55 MiB | 17.94 MiB/s, done.\n",
            "Resolving deltas: 100% (126/126), done.\n"
          ],
          "name": "stdout"
        }
      ]
    },
    {
      "cell_type": "markdown",
      "metadata": {
        "id": "gP84YVkJUB9d"
      },
      "source": [
        "## 2. Download whole protein sequence in FASTA format"
      ]
    },
    {
      "cell_type": "code",
      "metadata": {
        "colab": {
          "base_uri": "https://localhost:8080/"
        },
        "id": "yTiGGSwFrNQl",
        "outputId": "8606adf6-3fa0-4d5a-bbfe-209fb570b097"
      },
      "source": [
        "# !wget https://ftp.ncbi.nlm.nih.gov/genomes/all/GCF/001/995/035/GCF_001995035.1_ASM199503v1/GCF_001995035.1_ASM199503v1_protein.faa.gz\r\n",
        "!zcat GCF_001995035.1_ASM199503v1_protein.faa.gz | head"
      ],
      "execution_count": 8,
      "outputs": [
        {
          "output_type": "stream",
          "text": [
            ">XP_022131230.1 uncharacterized protein LOC111026168 [Momordica charantia]\n",
            "MLSIQFGISFSSKVFVIMPHRDLPKNPKERENVISVGGIMAWNAFDNVTATTKTPEALMAEINAAISKIEYARTTACLES\n",
            "ATPPASQDGGSGASLMPQYDARMADEAYKAGCAALAVGKLDDALHSLNVSLSKCPPEKTSAVAKLLSLITLTSQQLHRSS\n",
            "NCSEISED\n",
            ">XP_022131231.1 BTB/POZ domain-containing protein At3g05675 [Momordica charantia]\n",
            "MSVPPSVKFADLSPAKDVFVSALRFALSINRPCAPFGDELQRSAQEQVDYMLRADPDTLSIITDDEVKSVLRMGFSKTST\n",
            "SFERELSSLLLESSLISQANEDKILRTLSDLEWICTLLPKMNLMKDFVSYWIEISGNILKVIEDEKLNSLMWGLKVKLIE\n",
            "MTNKALEAVGYGTVILPAPYRLSLLKFWLPYIRKMKSLLDSKCVAETDFRYKMDDELCLNIEGAIVSMVLALPSNDQAFI\n",
            "LADWMKAEEMQYPDLTDAFELWCYRTKSAKRRLVESIDGVSSDDGDAAISF\n",
            ">XP_022131232.1 probable serine/threonine-protein kinase PBL7 [Momordica charantia]\n"
          ],
          "name": "stdout"
        }
      ]
    },
    {
      "cell_type": "markdown",
      "metadata": {
        "id": "WiHJWHssVyqV"
      },
      "source": [
        "## 3. Use `proteins_retrieve.py` to get your interested protein\r\n",
        "\r\n",
        "3.1 You need to prepare `protein_list.txt` file as tab delimited file of your protein and EC\r\n",
        "\r\n",
        "|   Protein ID   |    EC    |\r\n",
        "|----------------|----------|\r\n",
        "| XP_022136171.1 |  2.3.1.9 |\r\n",
        "| XP_022142541.1 |  2.3.1.9 |\r\n",
        "| XP_022152764.1 | 2.3.3.10 |\r\n",
        "\r\n",
        "\r\n",
        "3.2 Try to read manual using `proteins_retrieve.py --help`\r\n",
        "\r\n",
        "3.3 Get protein or gene sequences from genome using `proteins_retrieve.py` following this command\r\n",
        "```\r\n",
        "python3 proteins_retrieve.py \\\r\n",
        "\t--input <input_fasta_file> \\\r\n",
        "\t--list_of_interest <list_of_protein_id.txt> \\\r\n",
        "\t--output <output_file.fa>\r\n",
        "```"
      ]
    },
    {
      "cell_type": "code",
      "metadata": {
        "colab": {
          "base_uri": "https://localhost:8080/"
        },
        "id": "cjwYQwFawDTV",
        "outputId": "b88663a6-9212-4d2c-ed60-95c74a3e30d8"
      },
      "source": [
        "!python3 GenomeManagement/proteins_retrieve.py \\\r\n",
        "    --input GCF_001995035.1_ASM199503v1_protein.faa.gz \\\r\n",
        "    --list_of_interest list_of_protein_id.txt \\\r\n",
        "    --output output_file.fa"
      ],
      "execution_count": 15,
      "outputs": [
        {
          "output_type": "stream",
          "text": [
            "Found protein: XP_022136171.1\n",
            "Found protein: XP_022142541.1\n",
            "Found protein: XP_022152764.1\n"
          ],
          "name": "stdout"
        }
      ]
    },
    {
      "cell_type": "markdown",
      "metadata": {
        "id": "ufii7dSRYqo9"
      },
      "source": [
        "3.4 Download an output of FASTA file `output_file.fa` on working environment"
      ]
    }
  ]
}